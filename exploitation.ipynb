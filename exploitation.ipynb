{
 "cells": [
  {
   "cell_type": "markdown",
   "metadata": {},
   "source": [
    "## Importando as bibliotecas necessárias"
   ]
  },
  {
   "cell_type": "code",
   "execution_count": 3,
   "metadata": {},
   "outputs": [],
   "source": [
    "import pandas as pd"
   ]
  },
  {
   "cell_type": "markdown",
   "metadata": {},
   "source": [
    "## Carregando o arquivo CSV com os dados dos passageiros"
   ]
  },
  {
   "cell_type": "code",
   "execution_count": 4,
   "metadata": {},
   "outputs": [],
   "source": [
    "passageiros=pd.read_csv(\"raw-data/passageiros.csv\")"
   ]
  },
  {
   "cell_type": "markdown",
   "metadata": {},
   "source": [
    "## Visualizando as primeiras linhas dos dados"
   ]
  },
  {
   "cell_type": "code",
   "execution_count": null,
   "metadata": {},
   "outputs": [],
   "source": [
    "passageiros.head()"
   ]
  },
  {
   "cell_type": "markdown",
   "metadata": {},
   "source": [
    "## Importando a biblioteca Seaborn"
   ]
  },
  {
   "cell_type": "code",
   "execution_count": 6,
   "metadata": {},
   "outputs": [],
   "source": [
    "import seaborn as sns"
   ]
  },
  {
   "cell_type": "markdown",
   "metadata": {},
   "source": [
    "## Configurando o tamanho e as fontes das figuras"
   ]
  },
  {
   "cell_type": "code",
   "execution_count": 7,
   "metadata": {},
   "outputs": [],
   "source": [
    "import matplotlib as mpl\n",
    "mpl.rcParams[\"figure.figsize\"] = (10,6)\n",
    "mpl.rcParams[\"font.size\"] = 20"
   ]
  },
  {
   "cell_type": "markdown",
   "metadata": {},
   "source": [
    "## Criando um gráfico de linha para visualizar a quantidade de passageiros ao longo do tempo"
   ]
  },
  {
   "cell_type": "code",
   "execution_count": null,
   "metadata": {},
   "outputs": [],
   "source": [
    "sns.lineplot(x=\"tempo\", y=\"passageiros\", data=passageiros, label=\"dado_completo\")"
   ]
  },
  {
   "cell_type": "markdown",
   "metadata": {},
   "source": [
    "## Importando o StandardScaler da biblioteca Scikit-learn para escalonamento dos dados"
   ]
  },
  {
   "cell_type": "code",
   "execution_count": 9,
   "metadata": {},
   "outputs": [],
   "source": [
    "from sklearn.preprocessing import StandardScaler"
   ]
  },
  {
   "cell_type": "markdown",
   "metadata": {},
   "source": [
    "## Instanciando o StandardScaler"
   ]
  },
  {
   "cell_type": "code",
   "execution_count": 10,
   "metadata": {},
   "outputs": [],
   "source": [
    "sc=StandardScaler()"
   ]
  },
  {
   "cell_type": "markdown",
   "metadata": {},
   "source": [
    "## Ajustando o StandardScaler aos dados"
   ]
  },
  {
   "cell_type": "code",
   "execution_count": null,
   "metadata": {},
   "outputs": [],
   "source": [
    "sc.fit(passageiros)"
   ]
  },
  {
   "cell_type": "markdown",
   "metadata": {},
   "source": [
    "## Normalizando os dados"
   ]
  },
  {
   "cell_type": "code",
   "execution_count": 12,
   "metadata": {},
   "outputs": [],
   "source": [
    "dado_normalizado=sc.transform(passageiros)"
   ]
  },
  {
   "cell_type": "markdown",
   "metadata": {},
   "source": [
    "## Separando os dados normalizados em variáveis x e y"
   ]
  },
  {
   "cell_type": "code",
   "execution_count": 13,
   "metadata": {},
   "outputs": [],
   "source": [
    "x=dado_normalizado[:,0]\n",
    "y=dado_normalizado[:,1]"
   ]
  },
  {
   "cell_type": "markdown",
   "metadata": {},
   "source": [
    "## Importando o Matplotlib para visualização"
   ]
  },
  {
   "cell_type": "code",
   "execution_count": 14,
   "metadata": {},
   "outputs": [],
   "source": [
    "import matplotlib.pyplot as plt"
   ]
  },
  {
   "cell_type": "markdown",
   "metadata": {},
   "source": [
    "## Plotando os dados normalizados em um gráfico de linha"
   ]
  },
  {
   "cell_type": "code",
   "execution_count": null,
   "metadata": {},
   "outputs": [],
   "source": [
    "sns.lineplot(x=x, y=y, label=\"dado_normalizado\")\n",
    "plt.ylabel(\"Passageiros\")\n",
    "plt.xlabel(\"Data\")"
   ]
  },
  {
   "cell_type": "markdown",
   "metadata": {},
   "source": [
    "## Definindo os tamanhos de treino e teste"
   ]
  },
  {
   "cell_type": "code",
   "execution_count": 16,
   "metadata": {},
   "outputs": [],
   "source": [
    "size_treino=int(len(passageiros)*0.9)\n",
    "size_teste=len(passageiros)-size_treino"
   ]
  },
  {
   "cell_type": "markdown",
   "metadata": {},
   "source": [
    "## Separando os dados de treino"
   ]
  },
  {
   "cell_type": "code",
   "execution_count": 17,
   "metadata": {},
   "outputs": [],
   "source": [
    "x_treino=x[0:size_treino]\n",
    "y_treino=y[0:size_treino]"
   ]
  },
  {
   "cell_type": "markdown",
   "metadata": {},
   "source": [
    "## Separando os dados de teste"
   ]
  },
  {
   "cell_type": "code",
   "execution_count": 18,
   "metadata": {},
   "outputs": [],
   "source": [
    "x_teste=x[size_treino:len(passageiros)]\n",
    "y_teste=y[size_treino:len(passageiros)]"
   ]
  },
  {
   "cell_type": "markdown",
   "metadata": {},
   "source": [
    "## Plotando os dados de treino e teste"
   ]
  },
  {
   "cell_type": "code",
   "execution_count": null,
   "metadata": {},
   "outputs": [],
   "source": [
    "sns.lineplot(x=x_treino, y=y_treino, label=\"Treino\")\n",
    "sns.lineplot(x=x_teste, y=y_teste, label=\"Teste\")\n",
    "plt.ylabel(\"Passageiros\")\n",
    "plt.xlabel(\"Data\")"
   ]
  },
  {
   "cell_type": "markdown",
   "metadata": {},
   "source": [
    "## Importando as classes Sequential e Dense do TensorFlow"
   ]
  },
  {
   "cell_type": "code",
   "execution_count": null,
   "metadata": {},
   "outputs": [],
   "source": [
    "from tensorflow.keras.models import Sequential\n",
    "from tensorflow.keras.layers import Dense"
   ]
  },
  {
   "cell_type": "markdown",
   "metadata": {},
   "source": [
    "## Criando uma instância do modelo Sequential\n",
    "Aqui estamos criando um modelo sequencial, que será usado para empilhar camadas de uma rede neural."
   ]
  },
  {
   "cell_type": "code",
   "execution_count": 21,
   "metadata": {},
   "outputs": [],
   "source": [
    "regressor=Sequential()"
   ]
  },
  {
   "cell_type": "markdown",
   "metadata": {},
   "source": [
    "## Adicionando uma camada densa com ativação linear\n",
    "Aqui estamos adicionando uma camada densa ao modelo, com 1 neurônio e ativação linear. O kernel é inicializado com valores \"Ones\" e a camada não utiliza bias."
   ]
  },
  {
   "cell_type": "code",
   "execution_count": null,
   "metadata": {},
   "outputs": [],
   "source": [
    "regressor.add(Dense(1, input_dim=1, kernel_initializer=\"Ones\", activation=\"linear\", use_bias=False))"
   ]
  },
  {
   "cell_type": "markdown",
   "metadata": {},
   "source": [
    "## Compilando o modelo\n",
    "Nesta célula, o modelo é compilado com a função de perda mean squared error (erro quadrático médio) e o otimizador adam, que ajustará os pesos durante o treinamento."
   ]
  },
  {
   "cell_type": "code",
   "execution_count": 23,
   "metadata": {},
   "outputs": [],
   "source": [
    "regressor.compile(loss=\"mean_squared_error\", optimizer=\"adam\")"
   ]
  },
  {
   "cell_type": "markdown",
   "metadata": {},
   "source": [
    "## Exibindo o resumo do modelo\n",
    "Aqui, o método summary é usado para visualizar a arquitetura do modelo, incluindo o número de parâmetros treináveis em cada camada."
   ]
  },
  {
   "cell_type": "code",
   "execution_count": null,
   "metadata": {},
   "outputs": [],
   "source": [
    "regressor.summary()"
   ]
  },
  {
   "cell_type": "markdown",
   "metadata": {},
   "source": [
    "## Treinando o modelo\n",
    "Nesta célula, o modelo é treinado com os dados de treino x_treino e y_treino."
   ]
  },
  {
   "cell_type": "code",
   "execution_count": null,
   "metadata": {},
   "outputs": [],
   "source": [
    "regressor.fit(x_treino, y_treino)"
   ]
  },
  {
   "cell_type": "markdown",
   "metadata": {},
   "source": [
    "## Fazendo previsões com o modelo\n",
    "Aqui estamos utilizando o método predict para gerar as previsões com base nos dados de treino."
   ]
  },
  {
   "cell_type": "code",
   "execution_count": null,
   "metadata": {},
   "outputs": [],
   "source": [
    "y_pred=regressor.predict(x_treino)"
   ]
  },
  {
   "cell_type": "markdown",
   "metadata": {},
   "source": [
    "## Plotando o resultado do treino e as previsões\n",
    "Nesta célula, são plotados os valores reais do treino e as previsões geradas pelo modelo em um gráfico de linha para comparação."
   ]
  },
  {
   "cell_type": "code",
   "execution_count": null,
   "metadata": {},
   "outputs": [],
   "source": [
    "sns.lineplot(x=x_treino, y=y_treino, label=\"Treino\")\n",
    "sns.lineplot(x=x_treino, y=y_pred[:,0], label=\"Predição\")"
   ]
  },
  {
   "cell_type": "markdown",
   "metadata": {},
   "source": [
    "## Criando um dicionário com os dados para o DataFrame"
   ]
  },
  {
   "cell_type": "code",
   "execution_count": 28,
   "metadata": {},
   "outputs": [],
   "source": [
    "d={\"Tempo\": x_treino, \"Passageiros\": y_pred[:,0]}"
   ]
  },
  {
   "cell_type": "markdown",
   "metadata": {},
   "source": [
    "## Criando um DataFrame com o dicionário de dados"
   ]
  },
  {
   "cell_type": "code",
   "execution_count": 29,
   "metadata": {},
   "outputs": [],
   "source": [
    "resultado=pd.DataFrame(data=d)"
   ]
  },
  {
   "cell_type": "markdown",
   "metadata": {},
   "source": [
    "## Exibindo o DataFrame resultante"
   ]
  },
  {
   "cell_type": "code",
   "execution_count": null,
   "metadata": {},
   "outputs": [],
   "source": [
    "resultado"
   ]
  },
  {
   "cell_type": "markdown",
   "metadata": {},
   "source": [
    "## Aplicando a transformação inversa para voltar à escala original\n",
    "Nesta célula, estamos utilizando inverse_transform para aplicar a transformação inversa no DataFrame resultado, retornando os valores à escala original."
   ]
  },
  {
   "cell_type": "code",
   "execution_count": 31,
   "metadata": {},
   "outputs": [],
   "source": [
    "resultado_transf=sc.inverse_transform(resultado)"
   ]
  },
  {
   "cell_type": "markdown",
   "metadata": {},
   "source": [
    "## Criando um DataFrame com os dados transformados\n",
    "Aqui, criamos um DataFrame com os dados transformados para a escala original, armazenando em resultado_transf."
   ]
  },
  {
   "cell_type": "code",
   "execution_count": 32,
   "metadata": {},
   "outputs": [],
   "source": [
    "resultado_transf=pd.DataFrame(resultado_transf)"
   ]
  },
  {
   "cell_type": "markdown",
   "metadata": {},
   "source": [
    "## Renomeando as colunas do DataFrame transformado\n",
    "Nesta célula, estamos renomeando as colunas de resultado_transf para \"Tempo\" e \"Passageiros\" para que elas correspondam aos nomes das colunas do DataFrame original."
   ]
  },
  {
   "cell_type": "code",
   "execution_count": 33,
   "metadata": {},
   "outputs": [],
   "source": [
    "resultado_transf.columns=[\"Tempo\", \"Passageiros\"]"
   ]
  },
  {
   "cell_type": "markdown",
   "metadata": {},
   "source": [
    "## Plotando os dados originais e ajustados\n",
    "Aqui, utilizamos o seaborn.lineplot para plotar os dados originais de passageiros e o ajuste de treino em dois gráficos de linha distintos para comparação."
   ]
  },
  {
   "cell_type": "code",
   "execution_count": null,
   "metadata": {},
   "outputs": [],
   "source": [
    "sns.lineplot(x=\"tempo\", y=\"passageiros\", data=passageiros, label=\"dado_completo\")\n",
    "sns.lineplot(x=\"Tempo\", y=\"Passageiros\", data=resultado_transf, label=\"ajuste_treino\")"
   ]
  },
  {
   "cell_type": "markdown",
   "metadata": {},
   "source": [
    "## Fazendo previsões com os dados de teste"
   ]
  },
  {
   "cell_type": "code",
   "execution_count": null,
   "metadata": {},
   "outputs": [],
   "source": [
    "y_pred_teste=regressor.predict(x_teste)"
   ]
  },
  {
   "cell_type": "markdown",
   "metadata": {},
   "source": [
    "## Criando um dicionário com as previsões do teste\n",
    "Nesta célula, criamos um dicionário com as colunas \"Tempo\" e \"Passageiros\", onde \"Tempo\" contém os dados de x_teste e \"Passageiros\" contém as previsões de y_pred_teste."
   ]
  },
  {
   "cell_type": "code",
   "execution_count": 36,
   "metadata": {},
   "outputs": [],
   "source": [
    "d={\"Tempo\": x_teste, \"Passageiros\": y_pred_teste[:,0]}\n",
    "resultado_teste=pd.DataFrame(data=d)"
   ]
  },
  {
   "cell_type": "markdown",
   "metadata": {},
   "source": [
    "## Aplicando a transformação inversa aos dados de teste\n",
    "Aqui aplicamos a função inverse_transform ao DataFrame de teste para retornar os dados à escala original."
   ]
  },
  {
   "cell_type": "code",
   "execution_count": 37,
   "metadata": {},
   "outputs": [],
   "source": [
    "resultado_transf_teste=sc.inverse_transform(resultado_teste)"
   ]
  },
  {
   "cell_type": "markdown",
   "metadata": {},
   "source": [
    "## Criando um DataFrame com os dados transformados do teste\n",
    "Nesta célula, criamos um novo DataFrame com os dados de teste transformados, armazenando-o como resultado_transf_teste."
   ]
  },
  {
   "cell_type": "code",
   "execution_count": 38,
   "metadata": {},
   "outputs": [],
   "source": [
    "resultado_transf_teste=pd.DataFrame(resultado_transf_teste)"
   ]
  },
  {
   "cell_type": "markdown",
   "metadata": {},
   "source": [
    "## Renomeando as colunas do DataFrame de teste transformado"
   ]
  },
  {
   "cell_type": "code",
   "execution_count": 39,
   "metadata": {},
   "outputs": [],
   "source": [
    "resultado_transf_teste.columns=[\"Tempo\", \"Passageiros\"]"
   ]
  },
  {
   "cell_type": "markdown",
   "metadata": {},
   "source": [
    "## Plotando os dados reais, o ajuste de treino e as previsões do teste\n",
    "Nesta célula, são gerados gráficos de linha com os dados reais, o ajuste de treino e as previsões feitas sobre os dados de teste, permitindo comparar os três conjuntos de dados."
   ]
  },
  {
   "cell_type": "code",
   "execution_count": null,
   "metadata": {},
   "outputs": [],
   "source": [
    "sns.lineplot(x=\"tempo\", y=\"passageiros\", data=passageiros, label=\"dado_completo\")\n",
    "sns.lineplot(x=\"Tempo\", y=\"Passageiros\", data=resultado_transf, label=\"ajuste_treino\")\n",
    "sns.lineplot(x=\"Tempo\", y=\"Passageiros\", data=resultado_transf_teste, label=\"previsão\")"
   ]
  },
  {
   "cell_type": "markdown",
   "metadata": {},
   "source": [
    "## Criando um novo modelo sequencial"
   ]
  },
  {
   "cell_type": "code",
   "execution_count": 41,
   "metadata": {},
   "outputs": [],
   "source": [
    "regressor2=Sequential()"
   ]
  },
  {
   "cell_type": "markdown",
   "metadata": {},
   "source": [
    "## Adicionando camadas densas ao modelo\n",
    "Estamos adicionando três camadas densas (Dense) ao modelo:\n",
    "1. A primeira camada com 8 neurônios e dimensão de entrada 1, com inicialização aleatória (random_uniform) e ativação linear.\n",
    "2. A segunda camada com 8 neurônios, também com inicialização aleatória e ativação linear.\n",
    "3. A terceira camada com 1 neurônio, para produzir a saída final, novamente com inicialização aleatória e ativação linear. Em todas as camadas, o bias não é utilizado."
   ]
  },
  {
   "cell_type": "code",
   "execution_count": null,
   "metadata": {},
   "outputs": [],
   "source": [
    "regressor2.add(Dense(8, input_dim=1, kernel_initializer=\"random_uniform\", activation=\"linear\", use_bias=False))\n",
    "regressor2.add(Dense(8, kernel_initializer=\"random_uniform\", activation=\"linear\", use_bias=False))\n",
    "regressor2.add(Dense(1, kernel_initializer=\"random_uniform\", activation=\"linear\", use_bias=False))"
   ]
  },
  {
   "cell_type": "markdown",
   "metadata": {},
   "source": [
    "## Compilando o novo modelo\n",
    "Nesta célula, estamos compilando o modelo regressor2 utilizando a função de perda mean squared error (erro quadrático médio) e o otimizador adam."
   ]
  },
  {
   "cell_type": "code",
   "execution_count": 43,
   "metadata": {},
   "outputs": [],
   "source": [
    "regressor2.compile(loss=\"mean_squared_error\", optimizer=\"adam\")"
   ]
  },
  {
   "cell_type": "markdown",
   "metadata": {},
   "source": [
    "## Exibindo o resumo do novo modelo"
   ]
  },
  {
   "cell_type": "code",
   "execution_count": null,
   "metadata": {},
   "outputs": [],
   "source": [
    "regressor2.summary()"
   ]
  },
  {
   "cell_type": "markdown",
   "metadata": {},
   "source": [
    "## Treinando o modelo com os dados de treino\n",
    "Nesta célula, estamos treinando o modelo regressor2 utilizando os dados de treino x_treino e y_treino por 200 épocas. Durante esse processo, o modelo ajusta seus pesos para minimizar o erro."
   ]
  },
  {
   "cell_type": "code",
   "execution_count": null,
   "metadata": {},
   "outputs": [],
   "source": [
    "regressor2.fit(x_treino, y_treino, epochs=200)"
   ]
  },
  {
   "cell_type": "markdown",
   "metadata": {},
   "source": [
    "## Fazendo previsões com os dados de treino"
   ]
  },
  {
   "cell_type": "code",
   "execution_count": null,
   "metadata": {},
   "outputs": [],
   "source": [
    "y_pred=regressor2.predict(x_treino)"
   ]
  },
  {
   "cell_type": "markdown",
   "metadata": {},
   "source": [
    "## Fazendo previsões com os dados de teste"
   ]
  },
  {
   "cell_type": "code",
   "execution_count": null,
   "metadata": {},
   "outputs": [],
   "source": [
    "y_pred_teste=regressor2.predict(x_teste)"
   ]
  },
  {
   "cell_type": "markdown",
   "metadata": {},
   "source": [
    "## Plotando os resultados das previsões e dos dados reais\n",
    "Aqui estamos utilizando seaborn para gerar gráficos de linha que comparam:\n",
    "1. Os dados reais de treino (x_treino, y_treino).\n",
    "2. Os dados reais de teste (x_teste, y_teste).\n",
    "3. As previsões feitas com os dados de treino (x_treino, y_pred).\n",
    "4. As previsões feitas com os dados de teste (x_teste, y_pred_teste).\n",
    "Esses gráficos permitem visualizar como o modelo se ajustou aos dados e a precisão das previsões."
   ]
  },
  {
   "cell_type": "code",
   "execution_count": null,
   "metadata": {},
   "outputs": [],
   "source": [
    "sns.lineplot(x=x_treino, y=y_treino, label=\"Treino\")\n",
    "sns.lineplot(x=x_teste, y=y_teste, label=\"Teste\")\n",
    "sns.lineplot(x=x_treino, y=y_pred[:,0], label=\"Ajuste\")\n",
    "sns.lineplot(x=x_teste, y=y_pred_teste[:,0], label=\"Predição\")"
   ]
  },
  {
   "cell_type": "code",
   "execution_count": 49,
   "metadata": {},
   "outputs": [],
   "source": [
    "regressor2=Sequential()"
   ]
  },
  {
   "cell_type": "markdown",
   "metadata": {},
   "source": [
    "## Adicionando camadas densas ao modelo com novas funções de ativação\n",
    "Foram feitas as seguintes alterações nas camadas:\n",
    "1. A primeira camada tem 8 neurônios com ativação sigmoid, dimensão de entrada 1, e inicialização aleatória (random_uniform). Não utiliza bias.\n",
    "2. A segunda camada tem 8 neurônios com ativação sigmoid, e também não utiliza bias.\n",
    "3. A terceira camada tem 1 neurônio com ativação linear para a saída final, mantendo a inicialização aleatória e sem utilizar bias.\n",
    "Essas alterações no uso de funções de ativação podem influenciar a maneira como a rede aprende e ajusta os pesos."
   ]
  },
  {
   "cell_type": "code",
   "execution_count": null,
   "metadata": {},
   "outputs": [],
   "source": [
    "regressor2.add(Dense(8, input_dim=1, kernel_initializer=\"random_uniform\", activation=\"sigmoid\", use_bias=False))\n",
    "regressor2.add(Dense(8, kernel_initializer=\"random_uniform\", activation=\"sigmoid\", use_bias=False))\n",
    "regressor2.add(Dense(1, kernel_initializer=\"random_uniform\", activation=\"linear\", use_bias=False))"
   ]
  },
  {
   "cell_type": "markdown",
   "metadata": {},
   "source": [
    "## Compilando o novo modelo com as camadas ajustadas\n",
    "Aqui, compilamos o modelo com a função de perda mean squared error (erro quadrático médio) e o otimizador adam, mantendo as mesmas configurações da versão anterior."
   ]
  },
  {
   "cell_type": "code",
   "execution_count": 51,
   "metadata": {},
   "outputs": [],
   "source": [
    "regressor2.compile(loss=\"mean_squared_error\", optimizer=\"adam\")"
   ]
  },
  {
   "cell_type": "markdown",
   "metadata": {},
   "source": [
    "## Exibindo o resumo do novo modelo"
   ]
  },
  {
   "cell_type": "code",
   "execution_count": null,
   "metadata": {},
   "outputs": [],
   "source": [
    "regressor2.summary()"
   ]
  },
  {
   "cell_type": "markdown",
   "metadata": {},
   "source": [
    "## Treinando o modelo com 500 épocas\n",
    "Nesta célula, estamos treinando o modelo regressor2 por 500 épocas, uma mudança em relação ao treinamento anterior, que utilizava menos épocas. Esse aumento no número de épocas permite que o modelo tenha mais iterações sobre os dados de treino, potencialmente melhorando o ajuste da rede neural."
   ]
  },
  {
   "cell_type": "code",
   "execution_count": null,
   "metadata": {},
   "outputs": [],
   "source": [
    "regressor2.fit(x_treino, y_treino, epochs=500)"
   ]
  },
  {
   "cell_type": "code",
   "execution_count": null,
   "metadata": {},
   "outputs": [],
   "source": [
    "y_pred=regressor2.predict(x_treino)"
   ]
  },
  {
   "cell_type": "code",
   "execution_count": null,
   "metadata": {},
   "outputs": [],
   "source": [
    "y_pred_teste=regressor2.predict(x_teste)"
   ]
  },
  {
   "cell_type": "markdown",
   "metadata": {},
   "source": [
    "## Plotando os resultados do treino, teste, ajuste e previsão\n",
    "Aqui utilizamos o seaborn para gerar gráficos de linha que comparam:\n",
    "1. Os dados reais de treino (x_treino, y_treino).\n",
    "2. Os dados reais de teste (x_teste, y_teste).\n",
    "3. As previsões feitas pelo modelo para os dados de treino (x_treino, y_pred).\n",
    "4. As previsões feitas pelo modelo para os dados de teste (x_teste, y_pred_teste).\n",
    "Esses gráficos permitem visualizar como o modelo se ajustou aos dados e avaliar a precisão das previsões."
   ]
  },
  {
   "cell_type": "code",
   "execution_count": null,
   "metadata": {},
   "outputs": [],
   "source": [
    "sns.lineplot(x=x_treino, y=y_treino, label=\"Treino\")\n",
    "sns.lineplot(x=x_teste, y=y_teste, label=\"Teste\")\n",
    "sns.lineplot(x=x_treino, y=y_pred[:,0], label=\"Ajuste\")\n",
    "sns.lineplot(x=x_teste, y=y_pred_teste[:,0], label=\"Predição\")"
   ]
  },
  {
   "cell_type": "markdown",
   "metadata": {},
   "source": [
    "Neste notebook, estamos desenvolvendo um modelo de regressão utilizando redes neurais, com a ajuda da biblioteca Keras (integrada ao TensorFlow). O objetivo principal é prever valores baseados em um conjunto de dados de treino e avaliar a performance do modelo com base em dados de teste. Vamos detalhar passo a passo o que fizemos até o momento.\n",
    "\n",
    "### 1. Construção do Modelo Inicial\n",
    "\n",
    "Iniciamos a criação do nosso modelo neural utilizando o Sequential, que permite empilhar camadas densas (fully connected) de forma simples e sequencial. Definimos três camadas:\n",
    "- Primeira camada: Com 8 neurônios, função de ativação sigmoid, sem bias, e com inicialização aleatória dos pesos (random_uniform). Essa camada recebe os dados de entrada com dimensão 1.\n",
    "- Segunda camada: Também com 8 neurônios e ativação sigmoid, sem bias, e mantendo a inicialização aleatória.\n",
    "- Terceira camada: Camada de saída com 1 neurônio, ativação linear e sem bias. O uso de ativação linear nesta camada é importante, pois estamos realizando uma tarefa de regressão, que exige uma saída contínua.\n",
    "\n",
    "### 2. Compilação do Modelo\n",
    "\n",
    "Após definir a arquitetura, compilamos o modelo utilizando:\n",
    "- Função de perda: mean squared error (erro quadrático médio), que é uma métrica comum em problemas de regressão, pois mede a diferença quadrática entre os valores reais e as previsões.\n",
    "- Otimizador: adam, um algoritmo de otimização muito eficiente que combina as melhores características do método de descida de gradiente, adaptando a taxa de aprendizado ao longo do treinamento.\n",
    "\n",
    "### 3. Treinamento do Modelo\n",
    "\n",
    "O treinamento foi realizado utilizando os dados de treino (x_treino e y_treino), ajustando o modelo por 500 épocas. O número de épocas controla quantas vezes o modelo passa por todo o conjunto de dados de treino. Um número maior de épocas permite que o modelo tenha mais tempo para ajustar os pesos, embora isso também possa levar ao overfitting (quando o modelo se ajusta demais aos dados de treino e não generaliza bem para novos dados).\n",
    "\n",
    "### 4. Previsões\n",
    "\n",
    "Após o treinamento, utilizamos o modelo treinado para fazer previsões tanto com os dados de treino quanto com os dados de teste:\n",
    "- Previsão com os dados de treino: Serve para avaliar como o modelo se ajustou ao próprio conjunto de dados com o qual foi treinado.\n",
    "- Previsão com os dados de teste: Utilizamos dados nunca vistos pelo modelo para verificar sua capacidade de generalização, ou seja, o quão bem ele consegue prever novos dados.\n",
    "\n",
    "### 5. Visualização dos Resultados\n",
    "\n",
    "Para facilitar a compreensão dos resultados, utilizamos a biblioteca Seaborn para plotar gráficos de linha que mostram:\n",
    "- Os valores reais dos dados de treino e teste.\n",
    "- As previsões feitas pelo modelo tanto para o treino quanto para o teste.\n",
    "\n",
    "Esses gráficos nos permitem comparar visualmente como o modelo está se comportando:\n",
    "- Se as linhas das previsões e dos valores reais estão muito próximas, significa que o modelo está ajustado de maneira eficiente.\n",
    "- Se houver uma discrepância grande entre as previsões e os valores reais (especialmente nos dados de teste), pode indicar que o modelo não generalizou bem ou está superajustado aos dados de treino.\n",
    "\n",
    "### 6. Ajustes Finais no Modelo\n",
    "\n",
    "O modelo foi modificado algumas vezes para incluir diferentes funções de ativação (sigmoid nas camadas ocultas e linear na camada de saída) e treinar por 500 épocas. Esses ajustes permitiram que a rede neural capturasse melhor as relações nos dados."
   ]
  },
  {
   "cell_type": "code",
   "execution_count": 57,
   "metadata": {},
   "outputs": [],
   "source": [
    "import numpy as np"
   ]
  },
  {
   "cell_type": "code",
   "execution_count": 58,
   "metadata": {},
   "outputs": [],
   "source": [
    "vetor=pd.DataFrame(y_treino)[0]"
   ]
  },
  {
   "cell_type": "code",
   "execution_count": 60,
   "metadata": {},
   "outputs": [],
   "source": [
    "def separa_dados(vetor, n_passos):\n",
    "    x_novo, y_novo=[],[]\n",
    "    for i in range(n_passos, vetor.shape[0]):\n",
    "        x_novo.append(list(vetor[i-n_passos:i-1]))\n",
    "        y_novo.append(vetor.loc[i])\n",
    "    x_novo, y_novo=np.array(x_novo), np.array(y_novo)\n",
    "    return x_novo, y_novo"
   ]
  },
  {
   "cell_type": "code",
   "execution_count": 61,
   "metadata": {},
   "outputs": [],
   "source": [
    "x_treino_novo, y_treino_novo=separa_dados(vetor, 1)"
   ]
  },
  {
   "cell_type": "code",
   "execution_count": null,
   "metadata": {},
   "outputs": [],
   "source": [
    "x_treino_novo[0:5]"
   ]
  },
  {
   "cell_type": "code",
   "execution_count": null,
   "metadata": {},
   "outputs": [],
   "source": [
    "y_treino_novo[0:5]"
   ]
  },
  {
   "cell_type": "code",
   "execution_count": 65,
   "metadata": {},
   "outputs": [],
   "source": [
    "vetor2=pd.DataFrame(y_teste)[0]"
   ]
  },
  {
   "cell_type": "code",
   "execution_count": 66,
   "metadata": {},
   "outputs": [],
   "source": [
    "x_teste_novo, y_teste_novo=separa_dados(vetor2, 1)"
   ]
  },
  {
   "cell_type": "code",
   "execution_count": 67,
   "metadata": {},
   "outputs": [],
   "source": [
    "regressor3=Sequential()"
   ]
  },
  {
   "cell_type": "code",
   "execution_count": 69,
   "metadata": {},
   "outputs": [],
   "source": [
    "regressor3.add(Dense(8, input_dim=1, kernel_initializer=\"ones\", activation=\"linear\", use_bias=False))\n",
    "regressor3.add(Dense(64, kernel_initializer=\"random_uniform\", activation=\"sigmoid\", use_bias=False))\n",
    "regressor3.add(Dense(1, kernel_initializer=\"random_uniform\", activation=\"linear\", use_bias=False))"
   ]
  },
  {
   "cell_type": "code",
   "execution_count": 70,
   "metadata": {},
   "outputs": [],
   "source": [
    "regressor3.compile(loss=\"mean_squared_error\", optimizer=\"adam\")"
   ]
  },
  {
   "cell_type": "code",
   "execution_count": null,
   "metadata": {},
   "outputs": [],
   "source": [
    "print(x_treino_novo.shape)\n",
    "print(y_treino_novo.shape)"
   ]
  },
  {
   "cell_type": "code",
   "execution_count": null,
   "metadata": {},
   "outputs": [],
   "source": [
    "regressor3.fit(x_treino_novo, y_treino_novo, epochs=100)"
   ]
  }
 ],
 "metadata": {
  "kernelspec": {
   "display_name": "Python 3",
   "language": "python",
   "name": "python3"
  },
  "language_info": {
   "codemirror_mode": {
    "name": "ipython",
    "version": 3
   },
   "file_extension": ".py",
   "mimetype": "text/x-python",
   "name": "python",
   "nbconvert_exporter": "python",
   "pygments_lexer": "ipython3",
   "version": "3.10.12"
  }
 },
 "nbformat": 4,
 "nbformat_minor": 2
}
